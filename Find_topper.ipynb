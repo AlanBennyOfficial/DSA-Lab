{
 "cells": [
  {
   "cell_type": "markdown",
   "id": "1533c221",
   "metadata": {},
   "source": [
    "# Find Topper\n",
    "find the topper using the given dictionary"
   ]
  },
  {
   "cell_type": "code",
   "execution_count": 1,
   "id": "295e85a6",
   "metadata": {},
   "outputs": [
    {
     "name": "stdout",
     "output_type": "stream",
     "text": [
      "Topper = 98\n"
     ]
    }
   ],
   "source": [
    "dict = {\"Anish\" : 98,\n",
    "        \"Aryan\" : 87,\n",
    "        \"Alan\" : 85\n",
    "}\n",
    "print(f\"Topper = {max(dict.values())}\")\n",
    "\n"
   ]
  }
 ],
 "metadata": {
  "kernelspec": {
   "display_name": "Python 3",
   "language": "python",
   "name": "python3"
  },
  "language_info": {
   "codemirror_mode": {
    "name": "ipython",
    "version": 3
   },
   "file_extension": ".py",
   "mimetype": "text/x-python",
   "name": "python",
   "nbconvert_exporter": "python",
   "pygments_lexer": "ipython3",
   "version": "3.13.5"
  }
 },
 "nbformat": 4,
 "nbformat_minor": 5
}
