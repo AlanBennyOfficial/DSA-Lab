{
 "cells": [
  {
   "cell_type": "markdown",
   "id": "03af07e8",
   "metadata": {},
   "source": [
    "# with ds\n",
    "Given a sentance, count how many times a word appears."
   ]
  },
  {
   "cell_type": "code",
   "execution_count": 1,
   "id": "21f0cdba",
   "metadata": {},
   "outputs": [
    {
     "name": "stdout",
     "output_type": "stream",
     "text": [
      "hello = 2\n",
      "world = 2\n",
      "cat = 1\n",
      "rabbit = 1\n"
     ]
    }
   ],
   "source": [
    "str = \"hello world world hello cat rabbit\"\n",
    "\n",
    "dict = {}\n",
    "\n",
    "for word in str.split():\n",
    "    if word in dict:\n",
    "        dict[word] += 1\n",
    "    else:\n",
    "        dict[word] = 1\n",
    "\n",
    "for each in dict:\n",
    "    print(f\"{each} = {dict[each]}\")\n"
   ]
  },
  {
   "cell_type": "markdown",
   "id": "58d625ff",
   "metadata": {},
   "source": [
    "# Without DS"
   ]
  },
  {
   "cell_type": "code",
   "execution_count": null,
   "id": "90b33dc9",
   "metadata": {},
   "outputs": [],
   "source": [
    "str = \"hello world world hello cat rabbit\"\n",
    "\n",
    "dict = {}\n",
    "\n",
    "for word in str.split():\n",
    "    if word in dict:\n",
    "        dict[word] += 1\n",
    "    else:   \n",
    "        dict[word] = 1\n",
    "\n",
    "for each in dict:\n",
    "    print(f\"{each} = {dict[each]}\")"
   ]
  }
 ],
 "metadata": {
  "kernelspec": {
   "display_name": "Python 3",
   "language": "python",
   "name": "python3"
  },
  "language_info": {
   "codemirror_mode": {
    "name": "ipython",
    "version": 3
   },
   "file_extension": ".py",
   "mimetype": "text/x-python",
   "name": "python",
   "nbconvert_exporter": "python",
   "pygments_lexer": "ipython3",
   "version": "3.13.5"
  }
 },
 "nbformat": 4,
 "nbformat_minor": 5
}
