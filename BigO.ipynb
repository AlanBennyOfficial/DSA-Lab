{
 "cells": [
  {
   "cell_type": "markdown",
   "id": "8a7b30a3",
   "metadata": {},
   "source": [
    "# Big O"
   ]
  },
  {
   "cell_type": "markdown",
   "id": "ffca8206",
   "metadata": {},
   "source": [
    "### Constant Time O(1)"
   ]
  },
  {
   "cell_type": "code",
   "execution_count": 52,
   "id": "4476b911",
   "metadata": {},
   "outputs": [
    {
     "name": "stdout",
     "output_type": "stream",
     "text": [
      "Time taken for n = 1000: 1.0728836059570312e-05 seconds\n",
      "Time taken for n = 10000: 7.152557373046875e-07 seconds\n",
      "Time taken for n = 100000: 4.76837158203125e-07 seconds\n"
     ]
    }
   ],
   "source": [
    "import time\n",
    "\n",
    "def ConstantTime(n): \n",
    "    start = time.time()\n",
    "    arr = [1,2,3]\n",
    "    def inner(arr):\n",
    "        return arr[0]\n",
    "    end = time.time()\n",
    "    print(f\"Time taken for n = {n}: {end - start} seconds\")\n",
    "\n",
    "ConstantTime(1000)\n",
    "ConstantTime(10000)\n",
    "ConstantTime(100000)"
   ]
  },
  {
   "cell_type": "markdown",
   "id": "271d8627",
   "metadata": {},
   "source": [
    "### Linear Time O(n)"
   ]
  },
  {
   "cell_type": "code",
   "execution_count": null,
   "id": "3833c7d8",
   "metadata": {},
   "outputs": [
    {
     "name": "stdout",
     "output_type": "stream",
     "text": [
      "Time taken for n = 1000: 2.0503997802734375e-05 seconds\n",
      "Time taken for n = 10000: 0.00017070770263671875 seconds\n",
      "Time taken for n = 100000: 0.0008878707885742188 seconds\n"
     ]
    }
   ],
   "source": [
    "import time\n",
    "\n",
    "def LinearTime(n):\n",
    "    start = time.time()\n",
    "    for _ in range(n):\n",
    "        pass\n",
    "    end = time.time()\n",
    "    print(f\"Time taken for n = {n}: {end - start} seconds\")\n",
    "\n",
    "LinearTime(1000)\n",
    "LinearTime(10000)\n",
    "LinearTime(100000)"
   ]
  }
 ],
 "metadata": {
  "kernelspec": {
   "display_name": "Python 3",
   "language": "python",
   "name": "python3"
  },
  "language_info": {
   "codemirror_mode": {
    "name": "ipython",
    "version": 3
   },
   "file_extension": ".py",
   "mimetype": "text/x-python",
   "name": "python",
   "nbconvert_exporter": "python",
   "pygments_lexer": "ipython3",
   "version": "3.13.5"
  }
 },
 "nbformat": 4,
 "nbformat_minor": 5
}
