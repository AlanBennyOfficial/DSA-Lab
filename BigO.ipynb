{
 "cells": [
  {
   "cell_type": "markdown",
   "id": "8a7b30a3",
   "metadata": {},
   "source": [
    "# Big O"
   ]
  },
  {
   "cell_type": "markdown",
   "id": "ffca8206",
   "metadata": {},
   "source": [
    "### Constant Time O(1)"
   ]
  },
  {
   "cell_type": "code",
   "execution_count": null,
   "id": "4476b911",
   "metadata": {},
   "outputs": [
    {
     "name": "stdout",
     "output_type": "stream",
     "text": [
      "Time taken for n = 1000: 4.76837158203125e-07 seconds\n",
      "Time taken for n = 10000: 1.430511474609375e-06 seconds\n",
      "Time taken for n = 100000: 7.152557373046875e-07 seconds\n"
     ]
    }
   ],
   "source": [
    "import time\n",
    "\n",
    "def ConstantTime(n): \n",
    "    start = time.time()\n",
    "    arr = [1,2,3]\n",
    "    def inner(arr):\n",
    "        return arr[0]\n",
    "    end = time.time()\n",
    "    print(f\"Time taken for n = {n}: {end - start} seconds\")\n",
    "\n",
    "ConstantTime(1000)\n",
    "ConstantTime(10000)\n",
    "ConstantTime(100000)"
   ]
  },
  {
   "cell_type": "markdown",
   "id": "271d8627",
   "metadata": {},
   "source": [
    "### Linear Time O(n)"
   ]
  },
  {
   "cell_type": "code",
   "execution_count": null,
   "id": "3833c7d8",
   "metadata": {},
   "outputs": [
    {
     "name": "stdout",
     "output_type": "stream",
     "text": [
      "Time taken for n = 1000: 1.2636184692382812e-05 seconds\n",
      "Time taken for n = 10000: 0.00010442733764648438 seconds\n",
      "Time taken for n = 100000: 0.0010652542114257812 seconds\n"
     ]
    }
   ],
   "source": [
    "import time\n",
    "\n",
    "def LinearTime(n):\n",
    "    start = time.time()\n",
    "    for _ in range(n):\n",
    "        pass\n",
    "    end = time.time()\n",
    "    print(f\"Time taken for n = {n}: {end - start} seconds\")\n",
    "\n",
    "LinearTime(1000)\n",
    "LinearTime(10000)\n",
    "LinearTime(100000)"
   ]
  },
  {
   "cell_type": "markdown",
   "id": "3d47b83c",
   "metadata": {},
   "source": [
    "### Quadratic Time O(n²)"
   ]
  },
  {
   "cell_type": "code",
   "execution_count": 5,
   "id": "51e5438e",
   "metadata": {},
   "outputs": [
    {
     "name": "stdout",
     "output_type": "stream",
     "text": [
      "Time taken for n = 10: 2.86102294921875e-06 seconds\n",
      "Time taken for n = 100: 4.2438507080078125e-05 seconds\n",
      "Time taken for n = 1000: 0.010109901428222656 seconds\n"
     ]
    }
   ],
   "source": [
    "import time\n",
    "\n",
    "def QuadraticTime(n):\n",
    "    start = time.time()\n",
    "    for i in range(n):\n",
    "        for j in range(n):\n",
    "            pass\n",
    "    end = time.time()\n",
    "    print(f\"Time taken for n = {n}: {end - start} seconds\")\n",
    "\n",
    "QuadraticTime(10)\n",
    "QuadraticTime(100)\n",
    "QuadraticTime(1000)"
   ]
  },
  {
   "cell_type": "markdown",
   "id": "cb589f07",
   "metadata": {},
   "source": [
    "### Exponential Time O(n!)"
   ]
  },
  {
   "cell_type": "code",
   "execution_count": 6,
   "id": "4bcfc45f",
   "metadata": {},
   "outputs": [
    {
     "name": "stdout",
     "output_type": "stream",
     "text": [
      "Time taken for n = 10: 4.76837158203125e-07 seconds\n",
      "Time taken for n = 100: 2.384185791015625e-07 seconds\n",
      "Time taken for n = 1000: 4.76837158203125e-07 seconds\n"
     ]
    }
   ],
   "source": [
    "import time\n",
    "\n",
    "def ExponentialTime(n):\n",
    "    start = time.time()\n",
    "    def Exp(n):\n",
    "        if n <= 1:\n",
    "            return 1\n",
    "        else:\n",
    "            return  Exp(n-1)+Exp(n-1)\n",
    "    end = time.time()\n",
    "    print(f\"Time taken for n = {n}: {end - start} seconds\")\n",
    "\n",
    "ExponentialTime(10)\n",
    "ExponentialTime(100)\n",
    "ExponentialTime(1000)"
   ]
  }
 ],
 "metadata": {
  "kernelspec": {
   "display_name": "Python 3",
   "language": "python",
   "name": "python3"
  },
  "language_info": {
   "codemirror_mode": {
    "name": "ipython",
    "version": 3
   },
   "file_extension": ".py",
   "mimetype": "text/x-python",
   "name": "python",
   "nbconvert_exporter": "python",
   "pygments_lexer": "ipython3",
   "version": "3.13.5"
  }
 },
 "nbformat": 4,
 "nbformat_minor": 5
}
